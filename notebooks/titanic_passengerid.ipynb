{
 "cells": [
  {
   "attachments": {},
   "cell_type": "markdown",
   "metadata": {},
   "source": [
    "# Titanic experiments\n",
    "In this notebook, we apply the 4 different types of hierarchical shrinkage using a single decision tree on the titanic dataset, with the (uninformative) feature `PassengerID` included. For each type of shrinkage, we inspect average test set accuracy using 10-fold CV and the feature importances for varying values of lambda.\n",
    "\n",
    "The main expectation is that the MDI feature importance for `PassengerID` will be much lower for models with shrinkage than without."
   ]
  },
  {
   "cell_type": "code",
   "execution_count": null,
   "metadata": {},
   "outputs": [],
   "source": [
    "import sys\n",
    "sys.path.append(\"..\")\n",
    "from aughs import ShrinkageClassifier\n",
    "from sklearn.model_selection import KFold\n",
    "from sklearn.metrics import balanced_accuracy_score\n",
    "from sklearn.preprocessing import OrdinalEncoder\n",
    "import pandas as pd\n",
    "import numpy as np\n",
    "import matplotlib.pyplot as plt\n",
    "from joblib import Parallel, delayed"
   ]
  },
  {
   "cell_type": "code",
   "execution_count": null,
   "metadata": {},
   "outputs": [],
   "source": [
    "def preprocess(df):\n",
    "    # Extract relevant columns\n",
    "    categorical_columns = [\"Sex\", \"Embarked\"]\n",
    "    numerical_columns = [\"Age\", \"Fare\", \"Pclass\", \"Parch\", \"PassengerId\"]\n",
    "    feat_columns = categorical_columns + numerical_columns\n",
    "\n",
    "    # Ordinal encode categorical columns\n",
    "    df[categorical_columns] = OrdinalEncoder().fit_transform(df[categorical_columns])\n",
    "    df = df.loc[:, feat_columns + [\"Survived\"]]\n",
    "\n",
    "    # Impute/drop missing values\n",
    "    df.loc[:, \"Age\"].fillna(df[\"Age\"].mean(), inplace=True)\n",
    "    df = df.dropna()\n",
    "    \n",
    "    X_df = df.loc[:, feat_columns]\n",
    "    y_df = df.loc[:, \"Survived\"]\n",
    "\n",
    "    return X_df, y_df"
   ]
  },
  {
   "attachments": {},
   "cell_type": "markdown",
   "metadata": {},
   "source": [
    "This function computes balanced accuracy scores and feature importances for all lambdas on one split of the dataset. We put this in a separate function so that we can compute all folds in parallel later."
   ]
  },
  {
   "cell_type": "code",
   "execution_count": null,
   "metadata": {},
   "outputs": [],
   "source": [
    "def compute_scores_single_fold(train_index, test_index, X, y, lmbs, shrink_mode):\n",
    "    scores = []\n",
    "    importances = []\n",
    "\n",
    "    clf = ShrinkageClassifier(shrink_mode=shrink_mode)\n",
    "    clf.fit(X[train_index], y[train_index])\n",
    "    for lmb in lmbs:\n",
    "        clf.reshrink(shrink_mode=shrink_mode, lmb=lmb)\n",
    "        scores.append(balanced_accuracy_score(y[test_index], clf.predict(X[test_index])))\n",
    "        importances.append(clf.estimator_.feature_importances_)\n",
    "    return scores, importances"
   ]
  },
  {
   "attachments": {},
   "cell_type": "markdown",
   "metadata": {},
   "source": [
    "In the cell below, we split the data into 10 folds, and for each 9-1-fold split, we compute balanced accuracy and feature importances for lambda ranging from 1 to 100. Each of these splits is computed in parallel using joblib."
   ]
  },
  {
   "cell_type": "code",
   "execution_count": null,
   "metadata": {},
   "outputs": [],
   "source": [
    "X_df, y_df = preprocess(pd.read_csv(\"../../raw_data/titanic/titanic_train.csv\"))\n",
    "lmbs = np.arange(0, 100, 1)\n",
    "scores = {}\n",
    "importances = {}\n",
    "for shrink_mode in [\"hs\", \"hs_entropy\", \"hs_log_cardinality\", \"hs_permutation\"]:\n",
    "    cv = KFold(n_splits=10, shuffle=True)\n",
    "    results = Parallel(n_jobs=-1)(\n",
    "        delayed(compute_scores_single_fold)(\n",
    "            train_index, test_index, X_df.values, y_df.values, lmbs, shrink_mode)\n",
    "            for train_index, test_index in cv.split(X_df.values))\n",
    "    shrink_mode_scores = np.vstack([result[0] for result in results])\n",
    "    shrink_mode_importances = np.array([result[1] for result in results])\n",
    "    scores[shrink_mode] = shrink_mode_scores\n",
    "    importances[shrink_mode] = np.average(shrink_mode_importances, axis=0)"
   ]
  },
  {
   "attachments": {},
   "cell_type": "markdown",
   "metadata": {},
   "source": [
    "The cell below shows the average and standard deviation of the balanced accuracy across the 10 splits for each shrinkage method and lambda value. We can see that the performance varies wildly across the folds, and no method is significantly better than any other."
   ]
  },
  {
   "cell_type": "code",
   "execution_count": null,
   "metadata": {},
   "outputs": [],
   "source": [
    "for key in scores:\n",
    "    avg = np.average(scores[key], axis=0)\n",
    "    std = np.std(scores[key], axis=0)\n",
    "    n = scores[key].shape[0]\n",
    "    conf = (1.96 * std / np.sqrt(n))\n",
    "    plt.plot(lmbs, avg, label=key)\n",
    "    plt.fill_between(lmbs, avg-conf, avg+conf, alpha=0.2)\n",
    "plt.legend()\n",
    "plt.xlabel(\"$\\lambda$\")\n",
    "plt.ylabel(\"Balanced accuracy\")\n",
    "plt.show()"
   ]
  },
  {
   "attachments": {},
   "cell_type": "markdown",
   "metadata": {},
   "source": [
    "In the cell below, we look at the feature importances for each type of shrinkage as a function of lambda. We see that all types of augmented shrinkage have a stronger influence on PassengerID, as expected."
   ]
  },
  {
   "cell_type": "code",
   "execution_count": null,
   "metadata": {},
   "outputs": [],
   "source": [
    "for key in importances:\n",
    "    line_objects = plt.plot(lmbs, importances[key])\n",
    "    plt.legend(line_objects, X_df.columns, bbox_to_anchor=(1.05, 1))\n",
    "    plt.title(key)\n",
    "    plt.xlabel(\"$\\lambda$\")\n",
    "    plt.ylabel(\"Feature importance\")\n",
    "    plt.show()"
   ]
  },
  {
   "cell_type": "code",
   "execution_count": null,
   "metadata": {},
   "outputs": [],
   "source": []
  }
 ],
 "metadata": {
  "kernelspec": {
   "display_name": "hierarchical-shrinkage",
   "language": "python",
   "name": "python3"
  },
  "language_info": {
   "codemirror_mode": {
    "name": "ipython",
    "version": 3
   },
   "file_extension": ".py",
   "mimetype": "text/x-python",
   "name": "python",
   "nbconvert_exporter": "python",
   "pygments_lexer": "ipython3",
   "version": "3.10.9"
  },
  "orig_nbformat": 4,
  "vscode": {
   "interpreter": {
    "hash": "b2514d54674e2b03a853d73b59381182ddcfa01219b058bbb52b8926a029c115"
   }
  }
 },
 "nbformat": 4,
 "nbformat_minor": 2
}
