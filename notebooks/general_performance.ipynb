{
 "cells": [
  {
   "attachments": {},
   "cell_type": "markdown",
   "metadata": {},
   "source": [
    "# Testing performance of different shrinkage techniques\n",
    "This corresponds to the performance experiments in section 4 of Agarwal et al. 2022."
   ]
  },
  {
   "cell_type": "code",
   "execution_count": null,
   "metadata": {},
   "outputs": [],
   "source": [
    "import sys\n",
    "sys.path.append('../')  # Necessary to import aughs from parent directory\n",
    "\n",
    "from imodels.util.data_util import get_clean_dataset\n",
    "import numpy as np\n",
    "from aughs import ShrinkageClassifier, ShrinkageRegressor\n",
    "from sklearn.model_selection import KFold\n",
    "from sklearn.metrics import balanced_accuracy_score, mean_squared_error\n",
    "import matplotlib.pyplot as plt\n",
    "from joblib import Parallel, delayed"
   ]
  },
  {
   "attachments": {},
   "cell_type": "markdown",
   "metadata": {},
   "source": [
    "## Classification"
   ]
  },
  {
   "cell_type": "code",
   "execution_count": null,
   "metadata": {},
   "outputs": [],
   "source": [
    "def compute_scores_single_fold_clf(train_index, test_index, X, y, lmbs, shrink_mode):\n",
    "    scores = []\n",
    "\n",
    "    clf = ShrinkageClassifier(shrink_mode=shrink_mode)\n",
    "    clf.fit(X[train_index], y[train_index])\n",
    "    for lmb in lmbs:\n",
    "        clf.reshrink(shrink_mode=shrink_mode, lmb=lmb)\n",
    "        scores.append(balanced_accuracy_score(y[test_index], clf.predict(X[test_index])))\n",
    "    return scores"
   ]
  },
  {
   "cell_type": "code",
   "execution_count": null,
   "metadata": {},
   "outputs": [],
   "source": [
    "clf_datasets = [\n",
    "    (\"heart\", \"heart\", \"imodels\"),\n",
    "    (\"breast-cancer\", \"breast_cancer\", \"imodels\"), \n",
    "    (\"haberman\", \"haberman\", \"imodels\"), \n",
    "    (\"ionosphere\", \"ionosphere\", \"pmlb\"),\n",
    "    (\"diabetes-clf\", \"diabetes\", \"pmlb\"),\n",
    "    (\"german\", \"german\", \"pmlb\"),\n",
    "    (\"juvenile\", \"juvenile_clean\", \"imodels\"),\n",
    "    #(\"recidivism\", \"compas_two_year_clean\", \"imodels\")\n",
    "]"
   ]
  },
  {
   "cell_type": "code",
   "execution_count": null,
   "metadata": {},
   "outputs": [],
   "source": [
    "lmbs = np.arange(0, 100, 2)\n",
    "for ds_name, id, source in clf_datasets:\n",
    "    X, y, feature_names = get_clean_dataset(id, data_source=source)\n",
    "    scores = {}\n",
    "    for shrink_mode in [\"hs\", \"hs_entropy\", \"hs_log_cardinality\"]:\n",
    "        cv = KFold(n_splits=10, shuffle=True)\n",
    "        results = Parallel(n_jobs=-1)(delayed(\n",
    "            compute_scores_single_fold_clf)(\n",
    "                train_index, test_index, X, y, lmbs, shrink_mode) \n",
    "                for train_index, test_index in cv.split(X))\n",
    "        scores[shrink_mode] = np.vstack(results)\n",
    "    \n",
    "    plt.figure(figsize=(10, 6))\n",
    "    for key in scores:\n",
    "        avg = np.mean(scores[key], axis=0)\n",
    "        std = np.std(scores[key], axis=0)\n",
    "        n = scores[key].shape[0]\n",
    "        conf = (1.96 * std / np.sqrt(n))\n",
    "        plt.plot(lmbs, avg, label=key)\n",
    "        plt.fill_between(lmbs, avg-conf, avg+conf, alpha=0.2)\n",
    "    plt.legend()\n",
    "    plt.xlabel(\"$\\lambda$\")\n",
    "    plt.ylabel(\"Balanced accuracy\")\n",
    "    plt.title(ds_name)\n",
    "    plt.show()\n"
   ]
  },
  {
   "attachments": {},
   "cell_type": "markdown",
   "metadata": {},
   "source": [
    "## Regression"
   ]
  },
  {
   "cell_type": "code",
   "execution_count": null,
   "metadata": {},
   "outputs": [],
   "source": [
    "reg_datasets = [\n",
    "    (\"friedman1\", \"friedman1\", \"synthetic\"),\n",
    "    (\"friedman3\", \"friedman3\", \"synthetic\"),\n",
    "    (\"diabetes-reg\", \"diabetes\", \"sklearn\"),\n",
    "    (\"abalone\", \"183\", \"openml\"),\n",
    "    (\"satellite-image\", \"294_satellite_image\", \"pmlb\"),\n",
    "    (\"california-housing\", \"california_housing\", \"sklearn\")\n",
    "]"
   ]
  },
  {
   "cell_type": "code",
   "execution_count": null,
   "metadata": {},
   "outputs": [],
   "source": [
    "def compute_scores_single_fold_reg(train_index, test_index, X, y, lmbs, shrink_mode):\n",
    "    scores = []\n",
    "\n",
    "    clf = ShrinkageRegressor(shrink_mode=shrink_mode)\n",
    "    clf.fit(X[train_index], y[train_index])\n",
    "    for lmb in lmbs:\n",
    "        clf.reshrink(shrink_mode=shrink_mode, lmb=lmb)\n",
    "        scores.append(mean_squared_error(y[test_index], clf.predict(X[test_index])))\n",
    "    return scores"
   ]
  },
  {
   "cell_type": "code",
   "execution_count": null,
   "metadata": {},
   "outputs": [],
   "source": [
    "lmbs = np.arange(0, 100, 2)\n",
    "for ds_name, id, source in reg_datasets:\n",
    "    X, y, feature_names = get_clean_dataset(id, data_source=source)\n",
    "    scores = {}\n",
    "    for shrink_mode in [\"hs\", \"hs_entropy\", \"hs_log_cardinality\"]:\n",
    "        cv = KFold(n_splits=10, shuffle=True)\n",
    "        results = Parallel(n_jobs=-1)(delayed(\n",
    "            compute_scores_single_fold_reg)(\n",
    "                train_index, test_index, X, y, lmbs, shrink_mode) \n",
    "                for train_index, test_index in cv.split(X))\n",
    "        scores[shrink_mode] = np.vstack(results)\n",
    "    \n",
    "    plt.figure(figsize=(10, 6))\n",
    "    for key in scores:\n",
    "        avg = np.mean(scores[key], axis=0)\n",
    "        std = np.std(scores[key], axis=0)\n",
    "        plt.plot(lmbs, avg, label=key)\n",
    "        plt.fill_between(lmbs, avg-std, avg+std, alpha=0.2)\n",
    "    plt.legend()\n",
    "    plt.xlabel(\"$\\lambda$\")\n",
    "    plt.ylabel(\"MSE\")\n",
    "    plt.title(ds_name)\n",
    "    plt.show()\n"
   ]
  },
  {
   "cell_type": "code",
   "execution_count": null,
   "metadata": {},
   "outputs": [],
   "source": []
  }
 ],
 "metadata": {
  "kernelspec": {
   "display_name": "hierarchical-shrinkage",
   "language": "python",
   "name": "python3"
  },
  "language_info": {
   "codemirror_mode": {
    "name": "ipython",
    "version": 3
   },
   "file_extension": ".py",
   "mimetype": "text/x-python",
   "name": "python",
   "nbconvert_exporter": "python",
   "pygments_lexer": "ipython3",
   "version": "3.10.12"
  },
  "orig_nbformat": 4,
  "vscode": {
   "interpreter": {
    "hash": "b2514d54674e2b03a853d73b59381182ddcfa01219b058bbb52b8926a029c115"
   }
  }
 },
 "nbformat": 4,
 "nbformat_minor": 2
}
