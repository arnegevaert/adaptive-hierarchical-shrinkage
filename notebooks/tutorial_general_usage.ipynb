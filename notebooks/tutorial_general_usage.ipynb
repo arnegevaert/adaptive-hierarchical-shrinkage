{
 "cells": [
  {
   "attachments": {},
   "cell_type": "markdown",
   "metadata": {},
   "source": [
    "# Tutorial: General Usage\n",
    "In this notebook, we use `aughs` to fit a decision tree and a random forest with augmented hierarchical shrinkage to a dataset, and plot the resulting feature importances."
   ]
  },
  {
   "cell_type": "code",
   "execution_count": null,
   "metadata": {},
   "outputs": [],
   "source": [
    "import sys\n",
    "sys.path.append('../')  # Necessary to import aughs from parent directory\n",
    "\n",
    "from aughs import ShrinkageClassifier\n",
    "from sklearn.ensemble import RandomForestClassifier\n",
    "from sklearn.tree import DecisionTreeClassifier\n",
    "from imodels.util.data_util import get_clean_dataset\n",
    "from sklearn.model_selection import train_test_split\n",
    "from sklearn.metrics import balanced_accuracy_score\n",
    "from matplotlib import pyplot as plt"
   ]
  },
  {
   "attachments": {},
   "cell_type": "markdown",
   "metadata": {},
   "source": [
    "## 1. Fitting the models"
   ]
  },
  {
   "cell_type": "code",
   "execution_count": null,
   "metadata": {},
   "outputs": [],
   "source": [
    "# Load and split the data\n",
    "X, y, feature_names = get_clean_dataset(\"breast_cancer\", data_source=\"imodels\")\n",
    "X_train, X_test, y_train, y_test = train_test_split(X, y, test_size=0.2, random_state=42)"
   ]
  },
  {
   "cell_type": "code",
   "execution_count": null,
   "metadata": {},
   "outputs": [],
   "source": [
    "# Train a decision tree with entropy-based augmented HS\n",
    "clf_tree = ShrinkageClassifier(DecisionTreeClassifier(), # Use a decision tree as the base classifier\n",
    "                          shrink_mode=\"hs_entropy\", # Use entropy-based HS\n",
    "                          lmb=10) # Use a lambda of 10\n",
    "clf_tree.fit(X_train, y_train)\n",
    "print(\"Accuracy:\", clf_tree.score(X_test, y_test))\n",
    "print(\"Balanced accuracy:\", balanced_accuracy_score(y_test, clf_tree.predict(X_test)))"
   ]
  },
  {
   "cell_type": "code",
   "execution_count": null,
   "metadata": {},
   "outputs": [],
   "source": [
    "# Train a random forest with log-cardinality-based augmented HS\n",
    "clf_forest = ShrinkageClassifier(RandomForestClassifier(), # Use a random forest as the base classifier\n",
    "                          shrink_mode=\"hs_log_cardinality\", # Use log-cardinality-based HS\n",
    "                          lmb=10) # Use a lambda of 10\n",
    "clf_forest.fit(X_train, y_train)\n",
    "print(\"Accuracy:\", clf_forest.score(X_test, y_test))\n",
    "print(\"Balanced accuracy:\", balanced_accuracy_score(y_test, clf_forest.predict(X_test)))"
   ]
  },
  {
   "attachments": {},
   "cell_type": "markdown",
   "metadata": {},
   "source": [
    "## 2. Plotting feature importances\n",
    "Feature importances can be accessed using the `feature_importances_` attribute of the `estimator_` object in the classifier. This `estimator_` object is a scikit-learn decision tree or random forest, depending on which type was passed in the constructor of the `ShrinkageClassifier`, so we can just treat it like any other scikit-learn classifier."
   ]
  },
  {
   "cell_type": "code",
   "execution_count": null,
   "metadata": {},
   "outputs": [],
   "source": [
    "tree_importances = clf_tree.estimator_.feature_importances_\n",
    "plt.bar(range(len(tree_importances)), tree_importances)\n",
    "plt.xticks(range(len(tree_importances)), feature_names, rotation=45, ha=\"right\")\n",
    "plt.title(\"Decision tree feature importances\")\n",
    "plt.show()"
   ]
  },
  {
   "cell_type": "code",
   "execution_count": null,
   "metadata": {},
   "outputs": [],
   "source": [
    "forest_importances = clf_forest.estimator_.feature_importances_\n",
    "plt.bar(range(len(forest_importances)), forest_importances)\n",
    "plt.xticks(range(len(forest_importances)), feature_names, rotation=45, ha=\"right\")\n",
    "plt.title(\"Random forest feature importances\")\n",
    "plt.show()"
   ]
  },
  {
   "cell_type": "code",
   "execution_count": null,
   "metadata": {},
   "outputs": [],
   "source": []
  }
 ],
 "metadata": {
  "kernelspec": {
   "display_name": "hierarchical-shrinkage",
   "language": "python",
   "name": "python3"
  },
  "language_info": {
   "codemirror_mode": {
    "name": "ipython",
    "version": 3
   },
   "file_extension": ".py",
   "mimetype": "text/x-python",
   "name": "python",
   "nbconvert_exporter": "python",
   "pygments_lexer": "ipython3",
   "version": "3.10.12"
  },
  "orig_nbformat": 4
 },
 "nbformat": 4,
 "nbformat_minor": 2
}
